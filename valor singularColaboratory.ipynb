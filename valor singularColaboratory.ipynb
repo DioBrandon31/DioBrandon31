{
  "cells": [
    {
      "cell_type": "markdown",
      "metadata": {
        "id": "view-in-github",
        "colab_type": "text"
      },
      "source": [
        "<a href=\"https://colab.research.google.com/github/DioBrandon31/DioBrandon31/blob/main/valor%20singularColaboratory.ipynb\" target=\"_parent\"><img src=\"https://colab.research.google.com/assets/colab-badge.svg\" alt=\"Open In Colab\"/></a>"
      ]
    },
    {
      "cell_type": "code",
      "source": [
        "import numpy as np \n",
        "\n",
        "A=np.array([[1,1],[0,0],[-2,2]])\n",
        "\n",
        "u, valor_singular, v = np.linalg.svd(A, full_matrices= False)\n",
        "print(f' u={u}')\n",
        "print(f' valor_singular = {valor_singular}')\n",
        "print(f'v={v}')\n",
        "\n",
        "B= np.dot(u, valor_singular)"
      ],
      "metadata": {
        "colab": {
          "base_uri": "https://localhost:8080/"
        },
        "id": "49fQApXPEMuv",
        "outputId": "c4166ac4-232b-47c9-9aad-eb97c5821232"
      },
      "execution_count": 6,
      "outputs": [
        {
          "output_type": "stream",
          "name": "stdout",
          "text": [
            " u=[[ 1.25949234e-17 -1.00000000e+00]\n",
            " [ 0.00000000e+00  0.00000000e+00]\n",
            " [ 1.00000000e+00 -2.11197656e-16]]\n",
            " valor_singular = [2.82842712 1.41421356]\n",
            "v=[[-0.70710678  0.70710678]\n",
            " [-0.70710678 -0.70710678]]\n"
          ]
        }
      ]
    }
  ],
  "metadata": {
    "colab": {
      "name": "Olá, este é o Colaboratory",
      "toc_visible": true,
      "provenance": [],
      "include_colab_link": true
    },
    "kernelspec": {
      "display_name": "Python 3",
      "name": "python3"
    }
  },
  "nbformat": 4,
  "nbformat_minor": 0
}